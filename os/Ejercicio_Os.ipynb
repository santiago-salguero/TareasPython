{
  "nbformat": 4,
  "nbformat_minor": 0,
  "metadata": {
    "colab": {
      "name": "Ejercicio_Os.ipynb",
      "provenance": [],
      "authorship_tag": "ABX9TyMaufIokPbCCSp4lnrQpzoK",
      "include_colab_link": true
    },
    "kernelspec": {
      "name": "python3",
      "display_name": "Python 3"
    },
    "language_info": {
      "name": "python"
    }
  },
  "cells": [
    {
      "cell_type": "markdown",
      "metadata": {
        "id": "view-in-github",
        "colab_type": "text"
      },
      "source": [
        "<a href=\"https://colab.research.google.com/github/santiago-salguero/TareasPython/blob/main/os/Ejercicio_Os.ipynb\" target=\"_parent\"><img src=\"https://colab.research.google.com/assets/colab-badge.svg\" alt=\"Open In Colab\"/></a>"
      ]
    },
    {
      "cell_type": "markdown",
      "metadata": {
        "id": "BVzcWU6tWj9A"
      },
      "source": [
        "**Santiago Salguero Enciso** </br>\n",
        "     **20201005034**\n",
        "     "
      ]
    },
    {
      "cell_type": "code",
      "metadata": {
        "colab": {
          "base_uri": "https://localhost:8080/",
          "height": 35
        },
        "id": "wiD4Y5fsOsYL",
        "outputId": "4c99022c-60b2-46d7-f3d3-5a3b86ac63c2"
      },
      "source": [
        "import os #Se importa la librería\n",
        "os.getcwd() #Se ve el donde se esta trabajando"
      ],
      "execution_count": null,
      "outputs": [
        {
          "output_type": "execute_result",
          "data": {
            "application/vnd.google.colaboratory.intrinsic+json": {
              "type": "string"
            },
            "text/plain": [
              "'/content/Modulo1'"
            ]
          },
          "metadata": {},
          "execution_count": 9
        }
      ]
    },
    {
      "cell_type": "code",
      "metadata": {
        "colab": {
          "base_uri": "https://localhost:8080/"
        },
        "id": "oXBFV_T1RFey",
        "outputId": "6751998e-b7b9-4c28-a06c-59c13523783f"
      },
      "source": [
        "import os\n",
        "os.mkdir('Modulo1') #Se crea el directorio 1\n",
        "os.mkdir('Modulo2') #Se crea el directorio 2\n",
        "os.mkdir('Modulo3') #Se crea el directorio 3\n"
      ],
      "execution_count": null,
      "outputs": [
        {
          "output_type": "execute_result",
          "data": {
            "text/plain": [
              "['.config',\n",
              " 'Modulo1',\n",
              " 'Modulo2',\n",
              " 'Modulo3',\n",
              " '.ipynb_checkpoints',\n",
              " 'sample_data']"
            ]
          },
          "metadata": {},
          "execution_count": 5
        }
      ]
    },
    {
      "cell_type": "code",
      "metadata": {
        "id": "8XAsv0f_TBvU"
      },
      "source": [
        "import os\n",
        "os.chdir('/content')\n",
        "os.chdir('Modulo1') #Se cambia de directorio\n",
        "os.mkdir('Observaciones') #Se crea el subdirectorio"
      ],
      "execution_count": null,
      "outputs": []
    },
    {
      "cell_type": "code",
      "metadata": {
        "id": "8f6qgxE6VAxn"
      },
      "source": [
        "import os\n",
        "os.chdir('/content')\n",
        "os.chdir('Modulo2') #Se cambia de directorio\n",
        "os.mkdir('Observaciones2') #Se crea el subdirectorio"
      ],
      "execution_count": null,
      "outputs": []
    },
    {
      "cell_type": "code",
      "metadata": {
        "id": "hOB5WL71VA2I"
      },
      "source": [
        "import os\n",
        "os.chdir('/content')\n",
        "os.chdir('Modulo3') #Se cambia de directorio\n",
        "os.mkdir('Observaciones3') #Se crea el subdirectorio"
      ],
      "execution_count": null,
      "outputs": []
    },
    {
      "cell_type": "code",
      "metadata": {
        "id": "xD5FXaUJbFKq"
      },
      "source": [
        "import os\n",
        "os.chdir('/content')\n",
        "file = open('Modulo1/Comentario1.txt','a+') #Se crea un archivo\n",
        "file2 = open('Modulo2/Comentario2.txt','a+')\n",
        "file3 = open('Modulo3/Comentario3.txt','a+') "
      ],
      "execution_count": null,
      "outputs": []
    },
    {
      "cell_type": "code",
      "metadata": {
        "colab": {
          "base_uri": "https://localhost:8080/"
        },
        "id": "NbWbU1RMSqd8",
        "outputId": "2f6b03b1-ab2a-4ad3-bf34-f057da6c8c3f"
      },
      "source": [
        "import os\n",
        "os.listdir() #Se visualizan los directorios"
      ],
      "execution_count": null,
      "outputs": [
        {
          "output_type": "execute_result",
          "data": {
            "text/plain": [
              "['Observaciones', 'Comentario1']"
            ]
          },
          "metadata": {},
          "execution_count": 13
        }
      ]
    },
    {
      "cell_type": "code",
      "metadata": {
        "id": "SWR6UVJhWAi5"
      },
      "source": [
        "import os\n",
        "os.chdir('/content')\n",
        "os.rename('Modulo1', 'Modulacion') #Se renombra el directorio1\n",
        "os.rename('Modulo2', 'Transicion') #Se renombra el directorio2\n",
        "os.rename('Modulo3', 'CopiadeSeguridad') #Se renombra el directorio3"
      ],
      "execution_count": null,
      "outputs": []
    },
    {
      "cell_type": "code",
      "metadata": {
        "colab": {
          "base_uri": "https://localhost:8080/"
        },
        "id": "FmQgCXJKWAxO",
        "outputId": "2de68d93-3026-4615-f983-912f4e455e2d"
      },
      "source": [
        "import os\n",
        "os.stat('Transicion') #Se crea la tupla de informacion del directorio."
      ],
      "execution_count": null,
      "outputs": [
        {
          "output_type": "execute_result",
          "data": {
            "text/plain": [
              "os.stat_result(st_mode=16877, st_ino=6029316, st_dev=50, st_nlink=3, st_uid=0, st_gid=0, st_size=4096, st_atime=1629326551, st_mtime=1629326542, st_ctime=1629326606)"
            ]
          },
          "metadata": {},
          "execution_count": 35
        }
      ]
    },
    {
      "cell_type": "code",
      "metadata": {
        "id": "0eRlZEsTWA8s"
      },
      "source": [
        ""
      ],
      "execution_count": null,
      "outputs": []
    }
  ]
}