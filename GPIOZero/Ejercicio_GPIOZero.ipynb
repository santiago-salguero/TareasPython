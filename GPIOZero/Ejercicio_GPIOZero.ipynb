{
  "nbformat": 4,
  "nbformat_minor": 0,
  "metadata": {
    "colab": {
      "name": "Ejercicio_GPIOZero.ipynb",
      "provenance": [],
      "authorship_tag": "ABX9TyMNT7lfKlHQQ6N4wqqCVVAn",
      "include_colab_link": true
    },
    "kernelspec": {
      "name": "python3",
      "display_name": "Python 3"
    },
    "language_info": {
      "name": "python"
    }
  },
  "cells": [
    {
      "cell_type": "markdown",
      "metadata": {
        "id": "view-in-github",
        "colab_type": "text"
      },
      "source": [
        "<a href=\"https://colab.research.google.com/github/santiago-salguero/TareasPython/blob/main/GPIOZero/Ejercicio_GPIOZero.ipynb\" target=\"_parent\"><img src=\"https://colab.research.google.com/assets/colab-badge.svg\" alt=\"Open In Colab\"/></a>"
      ]
    },
    {
      "cell_type": "code",
      "metadata": {
        "id": "1ohwbB_xToHL",
        "colab": {
          "base_uri": "https://localhost:8080/",
          "height": 367
        },
        "outputId": "ab241da2-8a31-49bc-9ac4-2db6a2e5cf0b"
      },
      "source": [
        "from gpiozero import Button\n",
        "from gpiozero import LED\n",
        "from signal import pause\n",
        "\n",
        "BtnR = Button(2, hold_time = 1, hold_repeat = True) #Creando el botón rojo\n",
        "BtnG = Button(3, hold_time = 1, hold_repeat = True) #Creando el botón verde\n",
        "BtinB = Button(4, hold_time = 1, hold_repeat = True) #Creando el botón azul\n",
        "\n",
        "LedRojo = LED(14,initial_value = false) #Creando el led rojo\n",
        "LedVerde = LED(15,initial_value = true) #Creando el led verde\n",
        "LedAzul = LED(18,initial_value = false) #Creando el led azul\n",
        "\n",
        "def funcion_CambiarR():\n",
        "  LedRojo.toggle() #Se cambia el valor del Led Rojo\n",
        "\n",
        "def parpadearR():\n",
        "  LedRojo.blink(on_time = 0.5, off_time=1.5, n=10) #Funcion del led Rojo\n",
        "  print(\"Parpadeando...\")\n",
        "\n",
        "def funcion_CambiarB():\n",
        "  LedAzul.toggle() #Se cambia el valor del Led Azul\n",
        "\n",
        "def parpadearB():\n",
        "  LedAzul.blink(on_time = 0.5, off_time=1.5, n=10) #Funcion del led Azul\n",
        "  print(\"Parpadeando...\")\n",
        "\n",
        "def funcion_CambiarG():\n",
        "  LedVerde.toggle() #Se cambia el valor del Led Verde\n",
        "\n",
        "def parpadearG():\n",
        "  LedVerde.blink(on_time = 0.5, off_time=1.5, n=10) #Funcion del led Verde\n",
        "  print(\"Parpadeando...\")\n",
        "\n",
        "\n",
        "\n",
        "#Funcion botón rojo\n",
        "try:\n",
        "  BtnR.when_pressed = funcion_CambiarR\n",
        "  BtnR.when_held = parpadearR\n",
        "  pause()\n",
        "finally:\n",
        "\n",
        "#Función boton azul\n",
        "try:\n",
        "  BtnB.when_pressed = funcion_CambiarB\n",
        "  BtnB.when_held = parpadearB\n",
        "  pause()\n",
        "finally:\n",
        "\n",
        "#Funcion boton Verde\n",
        "try:\n",
        "  BtnG.when_pressed = funcion_CambiarG\n",
        "  BtnG.when_held = parpadearG\n",
        "  pause()\n",
        "finally:\n"
      ],
      "execution_count": 2,
      "outputs": [
        {
          "output_type": "error",
          "ename": "ModuleNotFoundError",
          "evalue": "ignored",
          "traceback": [
            "\u001b[0;31m---------------------------------------------------------------------------\u001b[0m",
            "\u001b[0;31mModuleNotFoundError\u001b[0m                       Traceback (most recent call last)",
            "\u001b[0;32m<ipython-input-2-90b9c0638935>\u001b[0m in \u001b[0;36m<module>\u001b[0;34m()\u001b[0m\n\u001b[0;32m----> 1\u001b[0;31m \u001b[0;32mimport\u001b[0m \u001b[0mgpiozero\u001b[0m\u001b[0;34m\u001b[0m\u001b[0;34m\u001b[0m\u001b[0m\n\u001b[0m\u001b[1;32m      2\u001b[0m \u001b[0;32mfrom\u001b[0m \u001b[0mgpiozero\u001b[0m \u001b[0;32mimport\u001b[0m \u001b[0mButton\u001b[0m\u001b[0;34m\u001b[0m\u001b[0;34m\u001b[0m\u001b[0m\n\u001b[1;32m      3\u001b[0m \u001b[0;34m\u001b[0m\u001b[0m\n\u001b[1;32m      4\u001b[0m \u001b[0mbtn1\u001b[0m \u001b[0;34m=\u001b[0m \u001b[0mButton\u001b[0m\u001b[0;34m(\u001b[0m\u001b[0;36m2\u001b[0m\u001b[0;34m)\u001b[0m\u001b[0;34m\u001b[0m\u001b[0;34m\u001b[0m\u001b[0m\n\u001b[1;32m      5\u001b[0m \u001b[0mbtn2\u001b[0m \u001b[0;34m=\u001b[0m \u001b[0mButton\u001b[0m\u001b[0;34m(\u001b[0m\u001b[0;36m3\u001b[0m\u001b[0;34m)\u001b[0m\u001b[0;34m\u001b[0m\u001b[0;34m\u001b[0m\u001b[0m\n",
            "\u001b[0;31mModuleNotFoundError\u001b[0m: No module named 'gpiozero'",
            "",
            "\u001b[0;31m---------------------------------------------------------------------------\u001b[0;32m\nNOTE: If your import is failing due to a missing package, you can\nmanually install dependencies using either !pip or !apt.\n\nTo view examples of installing some common dependencies, click the\n\"Open Examples\" button below.\n\u001b[0;31m---------------------------------------------------------------------------\u001b[0m\n"
          ],
          "errorDetails": {
            "actions": [
              {
                "action": "open_url",
                "actionText": "Open Examples",
                "url": "/notebooks/snippets/importing_libraries.ipynb"
              }
            ]
          }
        }
      ]
    },
    {
      "cell_type": "code",
      "metadata": {
        "id": "JwdMvp_p8zak"
      },
      "source": [
        ""
      ],
      "execution_count": null,
      "outputs": []
    }
  ]
}