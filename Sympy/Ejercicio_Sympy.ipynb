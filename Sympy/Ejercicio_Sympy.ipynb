{
  "nbformat": 4,
  "nbformat_minor": 0,
  "metadata": {
    "colab": {
      "name": "Ejercicio_Sympy.ipynb",
      "provenance": [],
      "collapsed_sections": [],
      "authorship_tag": "ABX9TyMaTGuTaeJHQgOWXwb8jL+j",
      "include_colab_link": true
    },
    "kernelspec": {
      "name": "python3",
      "display_name": "Python 3"
    },
    "language_info": {
      "name": "python"
    }
  },
  "cells": [
    {
      "cell_type": "markdown",
      "metadata": {
        "id": "view-in-github",
        "colab_type": "text"
      },
      "source": [
        "<a href=\"https://colab.research.google.com/github/santiago-salguero/TareasPython/blob/main/Sympy/Ejercicio_Sympy.ipynb\" target=\"_parent\"><img src=\"https://colab.research.google.com/assets/colab-badge.svg\" alt=\"Open In Colab\"/></a>"
      ]
    },
    {
      "cell_type": "code",
      "metadata": {
        "colab": {
          "base_uri": "https://localhost:8080/"
        },
        "id": "TirUhp_GzZs_",
        "outputId": "e620cdc6-ce10-4471-c429-c9e6e2724717"
      },
      "source": [
        "import sympy\n",
        "from sympy import init_session\n",
        "init_session(use_latex=True)"
      ],
      "execution_count": 2,
      "outputs": [
        {
          "output_type": "stream",
          "name": "stdout",
          "text": [
            "IPython console for SymPy 1.7.1 (Python 3.7.11-64-bit) (ground types: python)\n",
            "\n",
            "These commands were executed:\n",
            ">>> from __future__ import division\n",
            ">>> from sympy import *\n",
            ">>> x, y, z, t = symbols('x y z t')\n",
            ">>> k, m, n = symbols('k m n', integer=True)\n",
            ">>> f, g, h = symbols('f g h', cls=Function)\n",
            ">>> init_printing()\n",
            "\n",
            "Documentation can be found at https://docs.sympy.org/1.7.1/\n",
            "\n"
          ]
        }
      ]
    },
    {
      "cell_type": "code",
      "metadata": {
        "colab": {
          "base_uri": "https://localhost:8080/",
          "height": 54
        },
        "id": "OdnSN8w1zdOs",
        "outputId": "4e1afd30-8dd8-47de-e3d9-657af8dcc5ac"
      },
      "source": [
        "Ec = 2*x**4+34*x**3+23 \n",
        "Eq(Derivative(Ec,x,2),Ec.diff(x,2)) # Segunda derivada de Ec"
      ],
      "execution_count": 3,
      "outputs": [
        {
          "output_type": "execute_result",
          "data": {
            "image/png": "[encoded data removed]",
            "text/latex": "$\\displaystyle \\frac{d^{2}}{d x^{2}} \\left(2 x^{4} + 34 x^{3} + 23\\right) = 12 x \\left(2 x + 17\\right)$",
            "text/plain": [
              "  2                                     \n",
              " d ⎛   4       3     ⎞                  \n",
              "───⎝2⋅x  + 34⋅x  + 23⎠ = 12⋅x⋅(2⋅x + 17)\n",
              "  2                                     \n",
              "dx                                      "
            ]
          },
          "metadata": {},
          "execution_count": 3
        }
      ]
    },
    {
      "cell_type": "code",
      "metadata": {
        "colab": {
          "base_uri": "https://localhost:8080/",
          "height": 52
        },
        "id": "YA58sQW4zrky",
        "outputId": "d5de287f-c050-4ea0-a623-ffa8eb894389"
      },
      "source": [
        "ec2 = x*log(x)\n",
        "Eq(Derivative(ec2),ec2.diff(x,1)) #Primera derivada de Ec2"
      ],
      "execution_count": 4,
      "outputs": [
        {
          "output_type": "execute_result",
          "data": {
            "image/png": "[encoded data removed]",
            "text/latex": "$\\displaystyle \\frac{d}{d x} x \\log{\\left(x \\right)} = \\log{\\left(x \\right)} + 1$",
            "text/plain": [
              "d                        \n",
              "──(x⋅log(x)) = log(x) + 1\n",
              "dx                       "
            ]
          },
          "metadata": {},
          "execution_count": 4
        }
      ]
    },
    {
      "cell_type": "code",
      "metadata": {
        "colab": {
          "base_uri": "https://localhost:8080/",
          "height": 58
        },
        "id": "qpCEVdBmzuMJ",
        "outputId": "b17c491c-38bc-40f4-b498-96b572975f7b"
      },
      "source": [
        "ec3 = cos((x**4)/(y+1))\n",
        "expand(ec3) #Expandiendo la ecuación"
      ],
      "execution_count": 7,
      "outputs": [
        {
          "output_type": "execute_result",
          "data": {
            "image/png": "[encoded data removed]",
            "text/latex": "$\\displaystyle \\cos{\\left(\\frac{x^{4}}{y + 1} \\right)}$",
            "text/plain": [
              "   ⎛   4 ⎞\n",
              "   ⎜  x  ⎟\n",
              "cos⎜─────⎟\n",
              "   ⎝y + 1⎠"
            ]
          },
          "metadata": {},
          "execution_count": 7
        }
      ]
    },
    {
      "cell_type": "code",
      "metadata": {
        "colab": {
          "base_uri": "https://localhost:8080/",
          "height": 39
        },
        "id": "vwF2-vM-0IHu",
        "outputId": "efd5fd40-0394-4b46-fa45-992fd3802070"
      },
      "source": [
        "ec4 = x**2+6*x+9\n",
        "factor(ec4)"
      ],
      "execution_count": 9,
      "outputs": [
        {
          "output_type": "execute_result",
          "data": {
            "image/png": "[encoded data removed]",
            "text/latex": "$\\displaystyle \\left(x + 3\\right)^{2}$",
            "text/plain": [
              "       2\n",
              "(x + 3) "
            ]
          },
          "metadata": {},
          "execution_count": 9
        }
      ]
    },
    {
      "cell_type": "code",
      "metadata": {
        "colab": {
          "base_uri": "https://localhost:8080/",
          "height": 55
        },
        "id": "5bbQSVJC0cc-",
        "outputId": "855b0dde-40e8-4343-a860-7adce22657f6"
      },
      "source": [
        "ec5 = (2*x+1)*(x**2+x+1)\n",
        "Integral(ec5) #Integral explícita"
      ],
      "execution_count": 12,
      "outputs": [
        {
          "output_type": "execute_result",
          "data": {
            "image/png": "[encoded data removed]",
            "text/latex": "$\\displaystyle \\int \\left(2 x + 1\\right) \\left(x^{2} + x + 1\\right)\\, dx$",
            "text/plain": [
              "⌠                          \n",
              "⎮           ⎛ 2        ⎞   \n",
              "⎮ (2⋅x + 1)⋅⎝x  + x + 1⎠ dx\n",
              "⌡                          "
            ]
          },
          "metadata": {},
          "execution_count": 12
        }
      ]
    },
    {
      "cell_type": "code",
      "metadata": {
        "colab": {
          "base_uri": "https://localhost:8080/",
          "height": 54
        },
        "id": "QnmKrqi71CoU",
        "outputId": "3d5fdd7e-58e7-4574-8c1d-25e9a2980fa6"
      },
      "source": [
        "(ec5).integrate() #Integrando la función"
      ],
      "execution_count": 14,
      "outputs": [
        {
          "output_type": "execute_result",
          "data": {
            "image/png": "[encoded data removed]",
            "text/latex": "$\\displaystyle \\frac{x^{4}}{2} + x^{3} + \\frac{3 x^{2}}{2} + x$",
            "text/plain": [
              " 4           2    \n",
              "x     3   3⋅x     \n",
              "── + x  + ──── + x\n",
              "2          2      "
            ]
          },
          "metadata": {},
          "execution_count": 14
        }
      ]
    },
    {
      "cell_type": "code",
      "metadata": {
        "colab": {
          "base_uri": "https://localhost:8080/",
          "height": 37
        },
        "id": "tIE7sC5h1tGa",
        "outputId": "3bd37bf3-0c00-4404-d707-8674df6063ee"
      },
      "source": [
        "integrate(ec5,(x,0,1)) #Evaluando la función"
      ],
      "execution_count": 19,
      "outputs": [
        {
          "output_type": "execute_result",
          "data": {
            "image/png": "[encoded data removed]",
            "text/latex": "$\\displaystyle 4$",
            "text/plain": [
              "4"
            ]
          },
          "metadata": {},
          "execution_count": 19
        }
      ]
    },
    {
      "cell_type": "code",
      "metadata": {
        "colab": {
          "base_uri": "https://localhost:8080/",
          "height": 78
        },
        "id": "3pb3ETwt2XHD",
        "outputId": "bef80b1b-afe4-4c1f-a888-28b2277ce511"
      },
      "source": [
        "P = Matrix([[12,-34,-45],[-34,-23,100],[45,12,23]])\n",
        "P"
      ],
      "execution_count": 22,
      "outputs": [
        {
          "output_type": "execute_result",
          "data": {
            "text/latex": "$\\displaystyle \\left[\\begin{matrix}12 & -34 & -45\\\\-34 & -23 & 100\\\\45 & 12 & 23\\end{matrix}\\right]$",
            "text/plain": [
              "⎡12   -34  -45⎤\n",
              "⎢             ⎥\n",
              "⎢-34  -23  100⎥\n",
              "⎢             ⎥\n",
              "⎣45   12   23 ⎦"
            ]
          },
          "metadata": {},
          "execution_count": 22
        }
      ]
    },
    {
      "cell_type": "code",
      "metadata": {
        "colab": {
          "base_uri": "https://localhost:8080/",
          "height": 78
        },
        "id": "zTdNkZVl3OsE",
        "outputId": "e682ce35-04c3-4a41-fa4f-47b6d03079b6"
      },
      "source": [
        "P.inv() #Inversa de la matriz P"
      ],
      "execution_count": 23,
      "outputs": [
        {
          "output_type": "execute_result",
          "data": {
            "text/latex": "$\\displaystyle \\left[\\begin{matrix}\\frac{91}{12029} & - \\frac{242}{228551} & \\frac{4435}{228551}\\\\- \\frac{278}{12029} & - \\frac{2301}{228551} & - \\frac{330}{228551}\\\\- \\frac{33}{12029} & \\frac{1674}{228551} & \\frac{1432}{228551}\\end{matrix}\\right]$",
            "text/plain": [
              "⎡  91   -242     4435 ⎤\n",
              "⎢─────  ──────  ──────⎥\n",
              "⎢12029  228551  228551⎥\n",
              "⎢                     ⎥\n",
              "⎢-278   -2301   -330  ⎥\n",
              "⎢─────  ──────  ──────⎥\n",
              "⎢12029  228551  228551⎥\n",
              "⎢                     ⎥\n",
              "⎢ -33    1674    1432 ⎥\n",
              "⎢─────  ──────  ──────⎥\n",
              "⎣12029  228551  228551⎦"
            ]
          },
          "metadata": {},
          "execution_count": 23
        }
      ]
    },
    {
      "cell_type": "code",
      "metadata": {
        "colab": {
          "base_uri": "https://localhost:8080/",
          "height": 37
        },
        "id": "_O-BTdHH3ZGc",
        "outputId": "1dd67f8e-c5c5-45d9-a366-68e993a7cb39"
      },
      "source": [
        "P.det() #Determinante de la matriz P"
      ],
      "execution_count": 24,
      "outputs": [
        {
          "output_type": "execute_result",
          "data": {
            "image/png": "[encoded data removed]",
            "text/latex": "$\\displaystyle -228551$",
            "text/plain": [
              "-228551"
            ]
          },
          "metadata": {},
          "execution_count": 24
        }
      ]
    },
    {
      "cell_type": "code",
      "metadata": {
        "colab": {
          "base_uri": "https://localhost:8080/",
          "height": 78
        },
        "id": "UvsBYbov3hWI",
        "outputId": "ac30fc0f-fb0e-456f-8ca9-80d993e78c47"
      },
      "source": [
        "P.T #Transpuesta de la matriz P"
      ],
      "execution_count": 26,
      "outputs": [
        {
          "output_type": "execute_result",
          "data": {
            "text/latex": "$\\displaystyle \\left[\\begin{matrix}12 & -34 & 45\\\\-34 & -23 & 12\\\\-45 & 100 & 23\\end{matrix}\\right]$",
            "text/plain": [
              "⎡12   -34  45⎤\n",
              "⎢            ⎥\n",
              "⎢-34  -23  12⎥\n",
              "⎢            ⎥\n",
              "⎣-45  100  23⎦"
            ]
          },
          "metadata": {},
          "execution_count": 26
        }
      ]
    }
  ]
}